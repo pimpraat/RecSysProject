{
 "cells": [
  {
   "cell_type": "code",
   "execution_count": null,
   "metadata": {},
   "outputs": [],
   "source": [
    "from src.dataset import DATASETS\n",
    "from src.models import MODELS\n",
    "from src.metrics import METRICS\n",
    "from src.settings import DATA_DIR\n",
    "from src.evaluation import Evaluator"
   ]
  },
  {
   "cell_type": "code",
   "execution_count": null,
   "metadata": {},
   "outputs": [],
   "source": [
    "dataset = \"tafeng\"\n",
    "model = \"tifuknn\"\n",
    "metric = \"recall\"\n",
    "batch_size = 200\n",
    "\n",
    "\n",
    "cutoff_list = [10]\n",
    "dataset_cls = DATASETS[dataset]\n",
    "model_cls = MODELS[model]\n",
    "\n",
    "dataset_dir_name = dataset\n",
    "verbose = True"
   ]
  },
  {
   "cell_type": "code",
   "execution_count": null,
   "metadata": {},
   "outputs": [],
   "source": [
    "data = dataset_cls(dataset_dir_name, verbose=verbose)\n",
    "data.make_leave_one_basket_split()\n",
    "data.load_split()"
   ]
  },
  {
   "cell_type": "code",
   "execution_count": null,
   "metadata": {},
   "outputs": [],
   "source": [
    "evaluator_test = Evaluator(dataset_df=data.test_df, cutoff_list=cutoff_list, batch_size=batch_size, verbose=verbose)"
   ]
  },
  {
   "cell_type": "code",
   "execution_count": null,
   "metadata": {},
   "outputs": [],
   "source": [
    "vparams = {\n",
    "    'num_nearest_neighbors': 300, \n",
    "    'within_decay_rate': 0.9, \n",
    "    'group_decay_rate': 0.7, \n",
    "    'alpha': 0.7, \n",
    "    'group_count': 7\n",
    "    }\n",
    "\n",
    "best_vmodel = model_cls(**vparams)"
   ]
  },
  {
   "cell_type": "code",
   "execution_count": null,
   "metadata": {},
   "outputs": [],
   "source": [
    "best_vmodel.fit(dataset=data)"
   ]
  },
  {
   "cell_type": "code",
   "execution_count": null,
   "metadata": {},
   "outputs": [],
   "source": [
    "performance_dct = evaluator_test.evaluate_recommender(best_vmodel)"
   ]
  },
  {
   "cell_type": "code",
   "execution_count": null,
   "metadata": {},
   "outputs": [],
   "source": [
    "performance_dct"
   ]
  },
  {
   "cell_type": "code",
   "execution_count": null,
   "metadata": {},
   "outputs": [],
   "source": []
  }
 ],
 "metadata": {
  "kernelspec": {
   "display_name": "nbr",
   "language": "python",
   "name": "python3"
  },
  "language_info": {
   "codemirror_mode": {
    "name": "ipython",
    "version": 3
   },
   "file_extension": ".py",
   "mimetype": "text/x-python",
   "name": "python",
   "nbconvert_exporter": "python",
   "pygments_lexer": "ipython3",
   "version": "3.9.16"
  },
  "orig_nbformat": 4
 },
 "nbformat": 4,
 "nbformat_minor": 2
}
