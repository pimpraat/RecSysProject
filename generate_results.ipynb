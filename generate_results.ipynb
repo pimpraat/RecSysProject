{
 "cells": [
  {
   "cell_type": "code",
   "execution_count": null,
   "metadata": {},
   "outputs": [],
   "source": [
    "# This notebook can be used to generate all tables/images based on (already run) experiments"
   ]
  },
  {
   "cell_type": "code",
   "execution_count": null,
   "metadata": {},
   "outputs": [],
   "source": [
    "! pip install pandas\n",
    "data = None\n",
    "with open('results/data.json', 'r') as openfile: data = json.load(openfile)"
   ]
  },
  {
   "attachments": {},
   "cell_type": "markdown",
   "metadata": {},
   "source": [
    "df = pd.DataFrame(columns=['model','dataset','metric' + data.values()[0].keys()])"
   ]
  },
  {
   "cell_type": "code",
   "execution_count": null,
   "metadata": {},
   "outputs": [],
   "source": [
    "for key, values in data.items():\n",
    "    experiment = dict(key)\n",
    "    df.loc[len(df.index)] = [experiment['model'], experiment['dataset'], experiment['metric'] + values.values()]\n",
    "print(df)"
   ]
  }
 ],
 "metadata": {
  "language_info": {
   "name": "python"
  },
  "orig_nbformat": 4
 },
 "nbformat": 4,
 "nbformat_minor": 2
}
